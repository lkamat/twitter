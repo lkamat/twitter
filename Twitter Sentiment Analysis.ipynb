{
 "cells": [
  {
   "cell_type": "code",
   "execution_count": 1,
   "metadata": {
    "collapsed": true
   },
   "outputs": [],
   "source": [
    "# Libraries:\n",
    "import tweepy           # To consume Twitter's API\n",
    "import pandas as pd     # To handle data\n",
    "import numpy as np      # For number computing\n",
    "\n",
    "# For plotting and visualization:\n",
    "from IPython.display import display\n",
    "import matplotlib.pyplot as plt\n",
    "import seaborn as sns\n",
    "%matplotlib inline"
   ]
  },
  {
   "cell_type": "markdown",
   "metadata": {},
   "source": [
    "### Credentials for twitter api"
   ]
  },
  {
   "cell_type": "code",
   "execution_count": 91,
   "metadata": {
    "collapsed": true
   },
   "outputs": [],
   "source": [
    "# Import our access keys:\n",
    "from credentials import *    # This will allow us to use the keys as variables\n",
    "\n",
    "# API's setup:\n",
    "def twitter_setup():\n",
    "    \"\"\"\n",
    "    Utility function to setup the Twitter's API\n",
    "    with our access keys provided.\n",
    "    \"\"\"\n",
    "    \n",
    "    # Authentication and access using keys:\n",
    "    auth = tweepy.OAuthHandler(CONSUMER_KEY, CONSUMER_SECRET)\n",
    "    auth.set_access_token(ACCESS_TOKEN, ACCESS_SECRET)\n",
    "\n",
    "    # Return API with authentication:\n",
    "    api = tweepy.API(auth)\n",
    "    return api"
   ]
  },
  {
   "cell_type": "markdown",
   "metadata": {},
   "source": [
    "### Extract tweets "
   ]
  },
  {
   "cell_type": "code",
   "execution_count": 109,
   "metadata": {},
   "outputs": [
    {
     "name": "stdout",
     "output_type": "stream",
     "text": [
      "Number of tweets extracted: 100.\n",
      "\n",
      "5 recent tweets:\n",
      "\n",
      "RT @PalmerReport: Donald Trump runs smack into the rule of law https://t.co/l6d0yKBotu\n",
      "\n",
      "RT @selectedwisdom: So surprised this is not a bigger story today, Mueller team filing says Gates knew he was in contact with a Russian age…\n",
      "\n",
      "RT @WhiteHouse: President Trump sparks renewed focus on American infrastructure: https://t.co/759wELnAp7\n",
      "\n",
      "RT @JanzforCongress: My opponent @DevinNunes and Donald Trump’s attacks on law enforcement are helping terrorists and criminals in courts o…\n",
      "\n",
      "RT @markos: FANTASTIC piece: https://t.co/VuloSkMqfE\n",
      "\n"
     ]
    }
   ],
   "source": [
    "# We create an extractor object:\n",
    "extract_tweets = twitter_setup()\n",
    "\n",
    "# We create a tweet list as follows:\n",
    "#tweets = extract_tweets.user_timeline(screen_name=\"ap\", count=200)\n",
    "tweets = extract_tweets.search( q='Donald Trump', count=200 )\n",
    "print(\"Number of tweets extracted: {}.\\n\".format(len(tweets)))\n",
    "\n",
    "# We print the most recent 5 tweets:\n",
    "print(\"5 recent tweets:\\n\")\n",
    "for tweet in tweets[:5]:\n",
    "    print(tweet.text)  \n",
    "    print()"
   ]
  },
  {
   "cell_type": "markdown",
   "metadata": {},
   "source": [
    "### Add tweets to a pandas dataframe and add relevant data to the dataframe"
   ]
  },
  {
   "cell_type": "code",
   "execution_count": 110,
   "metadata": {},
   "outputs": [
    {
     "data": {
      "text/html": [
       "<div>\n",
       "<style>\n",
       "    .dataframe thead tr:only-child th {\n",
       "        text-align: right;\n",
       "    }\n",
       "\n",
       "    .dataframe thead th {\n",
       "        text-align: left;\n",
       "    }\n",
       "\n",
       "    .dataframe tbody tr th {\n",
       "        vertical-align: top;\n",
       "    }\n",
       "</style>\n",
       "<table border=\"1\" class=\"dataframe\">\n",
       "  <thead>\n",
       "    <tr style=\"text-align: right;\">\n",
       "      <th></th>\n",
       "      <th>Tweets</th>\n",
       "    </tr>\n",
       "  </thead>\n",
       "  <tbody>\n",
       "    <tr>\n",
       "      <th>0</th>\n",
       "      <td>RT @PalmerReport: Donald Trump runs smack into...</td>\n",
       "    </tr>\n",
       "    <tr>\n",
       "      <th>1</th>\n",
       "      <td>RT @selectedwisdom: So surprised this is not a...</td>\n",
       "    </tr>\n",
       "    <tr>\n",
       "      <th>2</th>\n",
       "      <td>RT @WhiteHouse: President Trump sparks renewed...</td>\n",
       "    </tr>\n",
       "    <tr>\n",
       "      <th>3</th>\n",
       "      <td>RT @JanzforCongress: My opponent @DevinNunes a...</td>\n",
       "    </tr>\n",
       "    <tr>\n",
       "      <th>4</th>\n",
       "      <td>RT @markos: FANTASTIC piece: https://t.co/Vulo...</td>\n",
       "    </tr>\n",
       "    <tr>\n",
       "      <th>5</th>\n",
       "      <td>RT @804StreetMedia: @realDonaldTrump White Hou...</td>\n",
       "    </tr>\n",
       "    <tr>\n",
       "      <th>6</th>\n",
       "      <td>RT @Canadiangal51: Mueller: Trump campaign's G...</td>\n",
       "    </tr>\n",
       "    <tr>\n",
       "      <th>7</th>\n",
       "      <td>RT @business: Donald Trump intends to nominate...</td>\n",
       "    </tr>\n",
       "    <tr>\n",
       "      <th>8</th>\n",
       "      <td>RT @_FranklinWright: TRUMP WARNS: My Administr...</td>\n",
       "    </tr>\n",
       "    <tr>\n",
       "      <th>9</th>\n",
       "      <td>RT @joncoopertweets: Donald Trump, and super P...</td>\n",
       "    </tr>\n",
       "  </tbody>\n",
       "</table>\n",
       "</div>"
      ],
      "text/plain": [
       "                                              Tweets\n",
       "0  RT @PalmerReport: Donald Trump runs smack into...\n",
       "1  RT @selectedwisdom: So surprised this is not a...\n",
       "2  RT @WhiteHouse: President Trump sparks renewed...\n",
       "3  RT @JanzforCongress: My opponent @DevinNunes a...\n",
       "4  RT @markos: FANTASTIC piece: https://t.co/Vulo...\n",
       "5  RT @804StreetMedia: @realDonaldTrump White Hou...\n",
       "6  RT @Canadiangal51: Mueller: Trump campaign's G...\n",
       "7  RT @business: Donald Trump intends to nominate...\n",
       "8  RT @_FranklinWright: TRUMP WARNS: My Administr...\n",
       "9  RT @joncoopertweets: Donald Trump, and super P..."
      ]
     },
     "metadata": {},
     "output_type": "display_data"
    }
   ],
   "source": [
    "# Create a pandas dataframe:\n",
    "data = pd.DataFrame(data=[tweet.text for tweet in tweets], columns=['Tweets'])\n",
    "\n",
    "# Display the first 10 elements of the dataframe:\n",
    "display(data.head(10))"
   ]
  },
  {
   "cell_type": "code",
   "execution_count": 94,
   "metadata": {},
   "outputs": [
    {
     "name": "stdout",
     "output_type": "stream",
     "text": [
      "['__class__', '__delattr__', '__dict__', '__dir__', '__doc__', '__eq__', '__format__', '__ge__', '__getattribute__', '__getstate__', '__gt__', '__hash__', '__init__', '__le__', '__lt__', '__module__', '__ne__', '__new__', '__reduce__', '__reduce_ex__', '__repr__', '__setattr__', '__sizeof__', '__str__', '__subclasshook__', '__weakref__', '_api', '_json', 'author', 'contributors', 'coordinates', 'created_at', 'destroy', 'entities', 'favorite', 'favorite_count', 'favorited', 'geo', 'id', 'id_str', 'in_reply_to_screen_name', 'in_reply_to_status_id', 'in_reply_to_status_id_str', 'in_reply_to_user_id', 'in_reply_to_user_id_str', 'is_quote_status', 'lang', 'metadata', 'parse', 'parse_list', 'place', 'retweet', 'retweet_count', 'retweeted', 'retweets', 'source', 'source_url', 'text', 'truncated', 'user']\n"
     ]
    }
   ],
   "source": [
    "# Internal methods of a single tweet object:\n",
    "print(dir(tweets[0]))"
   ]
  },
  {
   "cell_type": "code",
   "execution_count": 111,
   "metadata": {},
   "outputs": [
    {
     "name": "stdout",
     "output_type": "stream",
     "text": [
      "979111088879960064\n",
      "2018-03-28 21:40:49\n",
      "Twitter for Android\n",
      "0\n",
      "43\n",
      "None\n",
      "None\n",
      "{'urls': [{'url': 'https://t.co/l6d0yKBotu', 'indices': [63, 86], 'display_url': 'palmerreport.com/analysis/rule-…', 'expanded_url': 'http://www.palmerreport.com/analysis/rule-law-donald-trump/9063/'}], 'symbols': [], 'user_mentions': [{'indices': [3, 16], 'id_str': '15115280', 'screen_name': 'PalmerReport', 'id': 15115280, 'name': 'Palmer Report'}], 'hashtags': []}\n"
     ]
    }
   ],
   "source": [
    "# Print info from the first tweet:\n",
    "print(tweets[0].id)\n",
    "print(tweets[0].created_at)\n",
    "print(tweets[0].source)\n",
    "print(tweets[0].favorite_count)\n",
    "print(tweets[0].retweet_count)\n",
    "print(tweets[0].geo)\n",
    "print(tweets[0].coordinates)\n",
    "print(tweets[0].entities)"
   ]
  },
  {
   "cell_type": "code",
   "execution_count": 112,
   "metadata": {
    "collapsed": true
   },
   "outputs": [],
   "source": [
    "# Add the relevant data:\n",
    "data['len']     = np.array([len(tweet.text) for tweet in tweets])\n",
    "data['ID']      = np.array([tweet.id for tweet in tweets])\n",
    "data['Date']    = np.array([tweet.created_at for tweet in tweets])\n",
    "data['Source']  = np.array([tweet.source for tweet in tweets])\n",
    "data['Likes']   = np.array([tweet.favorite_count for tweet in tweets])\n",
    "data['RTs']     = np.array([tweet.retweet_count for tweet in tweets])"
   ]
  },
  {
   "cell_type": "code",
   "execution_count": 113,
   "metadata": {},
   "outputs": [
    {
     "data": {
      "text/html": [
       "<div>\n",
       "<style>\n",
       "    .dataframe thead tr:only-child th {\n",
       "        text-align: right;\n",
       "    }\n",
       "\n",
       "    .dataframe thead th {\n",
       "        text-align: left;\n",
       "    }\n",
       "\n",
       "    .dataframe tbody tr th {\n",
       "        vertical-align: top;\n",
       "    }\n",
       "</style>\n",
       "<table border=\"1\" class=\"dataframe\">\n",
       "  <thead>\n",
       "    <tr style=\"text-align: right;\">\n",
       "      <th></th>\n",
       "      <th>Tweets</th>\n",
       "      <th>len</th>\n",
       "      <th>ID</th>\n",
       "      <th>Date</th>\n",
       "      <th>Source</th>\n",
       "      <th>Likes</th>\n",
       "      <th>RTs</th>\n",
       "    </tr>\n",
       "  </thead>\n",
       "  <tbody>\n",
       "    <tr>\n",
       "      <th>0</th>\n",
       "      <td>RT @PalmerReport: Donald Trump runs smack into...</td>\n",
       "      <td>86</td>\n",
       "      <td>979111088879960064</td>\n",
       "      <td>2018-03-28 21:40:49</td>\n",
       "      <td>Twitter for Android</td>\n",
       "      <td>0</td>\n",
       "      <td>43</td>\n",
       "    </tr>\n",
       "    <tr>\n",
       "      <th>1</th>\n",
       "      <td>RT @selectedwisdom: So surprised this is not a...</td>\n",
       "      <td>140</td>\n",
       "      <td>979111087302832129</td>\n",
       "      <td>2018-03-28 21:40:48</td>\n",
       "      <td>Twitter for Android</td>\n",
       "      <td>0</td>\n",
       "      <td>1279</td>\n",
       "    </tr>\n",
       "    <tr>\n",
       "      <th>2</th>\n",
       "      <td>RT @WhiteHouse: President Trump sparks renewed...</td>\n",
       "      <td>104</td>\n",
       "      <td>979111083247128577</td>\n",
       "      <td>2018-03-28 21:40:47</td>\n",
       "      <td>Twitter for iPhone</td>\n",
       "      <td>0</td>\n",
       "      <td>346</td>\n",
       "    </tr>\n",
       "    <tr>\n",
       "      <th>3</th>\n",
       "      <td>RT @JanzforCongress: My opponent @DevinNunes a...</td>\n",
       "      <td>140</td>\n",
       "      <td>979111083028959232</td>\n",
       "      <td>2018-03-28 21:40:47</td>\n",
       "      <td>Twitter for iPhone</td>\n",
       "      <td>0</td>\n",
       "      <td>44</td>\n",
       "    </tr>\n",
       "    <tr>\n",
       "      <th>4</th>\n",
       "      <td>RT @markos: FANTASTIC piece: https://t.co/Vulo...</td>\n",
       "      <td>52</td>\n",
       "      <td>979111082987057153</td>\n",
       "      <td>2018-03-28 21:40:47</td>\n",
       "      <td>Twitter Web Client</td>\n",
       "      <td>0</td>\n",
       "      <td>19</td>\n",
       "    </tr>\n",
       "    <tr>\n",
       "      <th>5</th>\n",
       "      <td>RT @804StreetMedia: @realDonaldTrump White Hou...</td>\n",
       "      <td>140</td>\n",
       "      <td>979111082567577600</td>\n",
       "      <td>2018-03-28 21:40:47</td>\n",
       "      <td>Twitter for Android</td>\n",
       "      <td>0</td>\n",
       "      <td>26</td>\n",
       "    </tr>\n",
       "    <tr>\n",
       "      <th>6</th>\n",
       "      <td>RT @Canadiangal51: Mueller: Trump campaign's G...</td>\n",
       "      <td>125</td>\n",
       "      <td>979111082357764096</td>\n",
       "      <td>2018-03-28 21:40:47</td>\n",
       "      <td>Twitter for Android</td>\n",
       "      <td>0</td>\n",
       "      <td>2</td>\n",
       "    </tr>\n",
       "    <tr>\n",
       "      <th>7</th>\n",
       "      <td>RT @business: Donald Trump intends to nominate...</td>\n",
       "      <td>140</td>\n",
       "      <td>979111080449445888</td>\n",
       "      <td>2018-03-28 21:40:47</td>\n",
       "      <td>Twitter Web Client</td>\n",
       "      <td>0</td>\n",
       "      <td>4</td>\n",
       "    </tr>\n",
       "    <tr>\n",
       "      <th>8</th>\n",
       "      <td>RT @_FranklinWright: TRUMP WARNS: My Administr...</td>\n",
       "      <td>140</td>\n",
       "      <td>979111072862031872</td>\n",
       "      <td>2018-03-28 21:40:45</td>\n",
       "      <td>Twitter Web Client</td>\n",
       "      <td>0</td>\n",
       "      <td>43</td>\n",
       "    </tr>\n",
       "    <tr>\n",
       "      <th>9</th>\n",
       "      <td>RT @joncoopertweets: Donald Trump, and super P...</td>\n",
       "      <td>140</td>\n",
       "      <td>979111072530599936</td>\n",
       "      <td>2018-03-28 21:40:45</td>\n",
       "      <td>Twitter for Android</td>\n",
       "      <td>0</td>\n",
       "      <td>286</td>\n",
       "    </tr>\n",
       "  </tbody>\n",
       "</table>\n",
       "</div>"
      ],
      "text/plain": [
       "                                              Tweets  len                  ID  \\\n",
       "0  RT @PalmerReport: Donald Trump runs smack into...   86  979111088879960064   \n",
       "1  RT @selectedwisdom: So surprised this is not a...  140  979111087302832129   \n",
       "2  RT @WhiteHouse: President Trump sparks renewed...  104  979111083247128577   \n",
       "3  RT @JanzforCongress: My opponent @DevinNunes a...  140  979111083028959232   \n",
       "4  RT @markos: FANTASTIC piece: https://t.co/Vulo...   52  979111082987057153   \n",
       "5  RT @804StreetMedia: @realDonaldTrump White Hou...  140  979111082567577600   \n",
       "6  RT @Canadiangal51: Mueller: Trump campaign's G...  125  979111082357764096   \n",
       "7  RT @business: Donald Trump intends to nominate...  140  979111080449445888   \n",
       "8  RT @_FranklinWright: TRUMP WARNS: My Administr...  140  979111072862031872   \n",
       "9  RT @joncoopertweets: Donald Trump, and super P...  140  979111072530599936   \n",
       "\n",
       "                 Date               Source  Likes   RTs  \n",
       "0 2018-03-28 21:40:49  Twitter for Android      0    43  \n",
       "1 2018-03-28 21:40:48  Twitter for Android      0  1279  \n",
       "2 2018-03-28 21:40:47   Twitter for iPhone      0   346  \n",
       "3 2018-03-28 21:40:47   Twitter for iPhone      0    44  \n",
       "4 2018-03-28 21:40:47   Twitter Web Client      0    19  \n",
       "5 2018-03-28 21:40:47  Twitter for Android      0    26  \n",
       "6 2018-03-28 21:40:47  Twitter for Android      0     2  \n",
       "7 2018-03-28 21:40:47   Twitter Web Client      0     4  \n",
       "8 2018-03-28 21:40:45   Twitter Web Client      0    43  \n",
       "9 2018-03-28 21:40:45  Twitter for Android      0   286  "
      ]
     },
     "metadata": {},
     "output_type": "display_data"
    }
   ],
   "source": [
    "# Display of first 10 elements from dataframe:\n",
    "display(data.head(10))"
   ]
  },
  {
   "cell_type": "markdown",
   "metadata": {},
   "source": [
    "### Averages, most liked, retweeted tweets, time series with respect to length of the tweets, likes, retweets"
   ]
  },
  {
   "cell_type": "code",
   "execution_count": 114,
   "metadata": {},
   "outputs": [
    {
     "name": "stdout",
     "output_type": "stream",
     "text": [
      "The average length of tweets: 131.9\n"
     ]
    }
   ],
   "source": [
    "# Extract the mean length of the tweets:\n",
    "mean = np.mean(data['len'])\n",
    "\n",
    "print(\"The average length of tweets: {}\".format(mean))"
   ]
  },
  {
   "cell_type": "code",
   "execution_count": 115,
   "metadata": {},
   "outputs": [
    {
     "name": "stdout",
     "output_type": "stream",
     "text": [
      "Correlation bewtween likes and retweets is: -0.05171836897119965\n",
      "The tweet with more likes is: \n",
      "\"This administration is running like a fine-tuned machine.\" - Donald Trump\n",
      "❌Shulkin\n",
      "❌McMaster\n",
      "❌McEntee  \n",
      "❌Tillerson… https://t.co/Kh1exlsC0q\n",
      "Number of likes: 4\n",
      "140 characters.\n",
      "\n",
      "The tweet with more retweets is: \n",
      "RT @krassenstein: Donald Trump won the White Evangelical Christian vote by a margin of 64 points, 80%-16%\n",
      "\n",
      "It's shameful these people demon…\n",
      "Number of retweets: 7903\n",
      "140 characters.\n",
      "\n"
     ]
    }
   ],
   "source": [
    "# Extract the tweet with more FAVs and more RTs:\n",
    "# Since more than one could have the same number of likes/retweets (the maximum) \n",
    "# Need to take the first one found, \n",
    "# use .index[0] to assign the index to the variables fav and rt. \n",
    "\n",
    "print(\"Correlation bewtween likes and retweets is: {}\".format(data['RTs'].corr(data['Likes'])))\n",
    "\n",
    "fav_max = np.max(data['Likes'])\n",
    "rt_max  = np.max(data['RTs'])\n",
    "\n",
    "fav = data[data.Likes == fav_max].index[0]\n",
    "rt  = data[data.RTs == rt_max].index[0]\n",
    "\n",
    "# Max FAVs:\n",
    "print(\"The tweet with more likes is: \\n{}\".format(data['Tweets'][fav]))\n",
    "print(\"Number of likes: {}\".format(fav_max))\n",
    "print(\"{} characters.\\n\".format(data['len'][fav]))\n",
    "\n",
    "# Max RTs:\n",
    "print(\"The tweet with more retweets is: \\n{}\".format(data['Tweets'][rt]))\n",
    "print(\"Number of retweets: {}\".format(rt_max))\n",
    "print(\"{} characters.\\n\".format(data['len'][rt]))"
   ]
  },
  {
   "cell_type": "code",
   "execution_count": 116,
   "metadata": {
    "collapsed": true
   },
   "outputs": [],
   "source": [
    "# Create time series for data:\n",
    "\n",
    "tlen = pd.Series(data=data['len'].values, index=data['Date'])\n",
    "tfav = pd.Series(data=data['Likes'].values, index=data['Date'])\n",
    "tret = pd.Series(data=data['RTs'].values, index=data['Date'])"
   ]
  },
  {
   "cell_type": "code",
   "execution_count": 117,
   "metadata": {},
   "outputs": [
    {
     "data": {
      "image/png": "[encoded data removed]",
      "text/plain": [
       "<Figure size 1152x288 with 1 Axes>"
      ]
     },
     "metadata": {},
     "output_type": "display_data"
    }
   ],
   "source": [
    "# Lengths along time:\n",
    "tlen.plot(figsize=(16,4), color='r');"
   ]
  },
  {
   "cell_type": "code",
   "execution_count": 118,
   "metadata": {},
   "outputs": [
    {
     "data": {
      "image/png": "[encoded data removed]",
      "text/plain": [
       "<Figure size 1152x288 with 1 Axes>"
      ]
     },
     "metadata": {},
     "output_type": "display_data"
    }
   ],
   "source": [
    "# Likes vs retweets visualization:\n",
    "tfav.plot(figsize=(16,4), label=\"Likes\", legend=True)\n",
    "tret.plot(figsize=(16,4), label=\"Retweets\", legend=True);"
   ]
  },
  {
   "cell_type": "markdown",
   "metadata": {},
   "source": [
    "### Analyze the different sources used to tweet and display using pie-chart"
   ]
  },
  {
   "cell_type": "code",
   "execution_count": 119,
   "metadata": {},
   "outputs": [
    {
     "name": "stdout",
     "output_type": "stream",
     "text": [
      "Creation of content sources:\n",
      "* Twitter for Android\n",
      "* Twitter for iPhone\n",
      "* Twitter Web Client\n",
      "* IFTTT\n",
      "* FintechIndia\n",
      "* Twitter for iPad\n",
      "* Tweet Old Post\n",
      "* Twitter for Windows\n",
      "* Google\n",
      "* Twitter Lite\n",
      "* TweetDeck\n",
      "* Fenix 2\n",
      "* cbc_diff\n",
      "* Botize\n",
      "* Convey: Make it post for you\n",
      "* DonaldTrumpTruthFeed\n"
     ]
    }
   ],
   "source": [
    "#Obtain all possible sources:\n",
    "sources = []\n",
    "for source in data['Source']:\n",
    "    if source not in sources:\n",
    "        sources.append(source)\n",
    "\n",
    "# We print sources list:\n",
    "print(\"Creation of content sources:\")\n",
    "for source in sources:\n",
    "    print(\"* {}\".format(source))"
   ]
  },
  {
   "cell_type": "code",
   "execution_count": 120,
   "metadata": {},
   "outputs": [
    {
     "data": {
      "image/png": "[encoded data removed]",
      "text/plain": [
       "<Figure size 432x432 with 1 Axes>"
      ]
     },
     "metadata": {},
     "output_type": "display_data"
    }
   ],
   "source": [
    "# Create a pie chart of sources:\n",
    "sources = data['Source'].unique()\n",
    "percent = data['Source'].value_counts()\n",
    "\n",
    "# Pie chart:\n",
    "pie_chart = pd.Series(percent, index=sources, name='Sources')\n",
    "pie_chart.plot.pie(fontsize=11, autopct='%.2f', figsize=(6, 6));"
   ]
  },
  {
   "cell_type": "markdown",
   "metadata": {},
   "source": [
    "### Sentiment Analysis of the tweets"
   ]
  },
  {
   "cell_type": "code",
   "execution_count": 121,
   "metadata": {
    "collapsed": true
   },
   "outputs": [],
   "source": [
    "from textblob import TextBlob\n",
    "import re\n",
    "\n",
    "def clean_tweet(tweet):\n",
    "    '''\n",
    "    Utility function to clean the text in a tweet by removing \n",
    "    links and special characters using regex.\n",
    "    '''\n",
    "    return ' '.join(re.sub(\"(@[A-Za-z0-9]+)|([^0-9A-Za-z \\t])|(\\w+:\\/\\/\\S+)\", \" \", tweet).split())\n",
    "\n",
    "def analyze_sentiment(tweet):\n",
    "    '''\n",
    "    Utility function to classify the polarity of a tweet\n",
    "    using textblob.\n",
    "    '''\n",
    "    analysis = TextBlob(clean_tweet(tweet))\n",
    "    if analysis.sentiment.polarity > 0:\n",
    "        return 1\n",
    "    elif analysis.sentiment.polarity == 0:\n",
    "        return 0\n",
    "    else:\n",
    "        return -1"
   ]
  },
  {
   "cell_type": "code",
   "execution_count": 122,
   "metadata": {},
   "outputs": [
    {
     "data": {
      "text/html": [
       "<div>\n",
       "<style>\n",
       "    .dataframe thead tr:only-child th {\n",
       "        text-align: right;\n",
       "    }\n",
       "\n",
       "    .dataframe thead th {\n",
       "        text-align: left;\n",
       "    }\n",
       "\n",
       "    .dataframe tbody tr th {\n",
       "        vertical-align: top;\n",
       "    }\n",
       "</style>\n",
       "<table border=\"1\" class=\"dataframe\">\n",
       "  <thead>\n",
       "    <tr style=\"text-align: right;\">\n",
       "      <th></th>\n",
       "      <th>Tweets</th>\n",
       "      <th>len</th>\n",
       "      <th>ID</th>\n",
       "      <th>Date</th>\n",
       "      <th>Source</th>\n",
       "      <th>Likes</th>\n",
       "      <th>RTs</th>\n",
       "      <th>SA</th>\n",
       "    </tr>\n",
       "  </thead>\n",
       "  <tbody>\n",
       "    <tr>\n",
       "      <th>0</th>\n",
       "      <td>RT @PalmerReport: Donald Trump runs smack into...</td>\n",
       "      <td>86</td>\n",
       "      <td>979111088879960064</td>\n",
       "      <td>2018-03-28 21:40:49</td>\n",
       "      <td>Twitter for Android</td>\n",
       "      <td>0</td>\n",
       "      <td>43</td>\n",
       "      <td>0</td>\n",
       "    </tr>\n",
       "    <tr>\n",
       "      <th>1</th>\n",
       "      <td>RT @selectedwisdom: So surprised this is not a...</td>\n",
       "      <td>140</td>\n",
       "      <td>979111087302832129</td>\n",
       "      <td>2018-03-28 21:40:48</td>\n",
       "      <td>Twitter for Android</td>\n",
       "      <td>0</td>\n",
       "      <td>1279</td>\n",
       "      <td>1</td>\n",
       "    </tr>\n",
       "    <tr>\n",
       "      <th>2</th>\n",
       "      <td>RT @WhiteHouse: President Trump sparks renewed...</td>\n",
       "      <td>104</td>\n",
       "      <td>979111083247128577</td>\n",
       "      <td>2018-03-28 21:40:47</td>\n",
       "      <td>Twitter for iPhone</td>\n",
       "      <td>0</td>\n",
       "      <td>346</td>\n",
       "      <td>0</td>\n",
       "    </tr>\n",
       "    <tr>\n",
       "      <th>3</th>\n",
       "      <td>RT @JanzforCongress: My opponent @DevinNunes a...</td>\n",
       "      <td>140</td>\n",
       "      <td>979111083028959232</td>\n",
       "      <td>2018-03-28 21:40:47</td>\n",
       "      <td>Twitter for iPhone</td>\n",
       "      <td>0</td>\n",
       "      <td>44</td>\n",
       "      <td>0</td>\n",
       "    </tr>\n",
       "    <tr>\n",
       "      <th>4</th>\n",
       "      <td>RT @markos: FANTASTIC piece: https://t.co/Vulo...</td>\n",
       "      <td>52</td>\n",
       "      <td>979111082987057153</td>\n",
       "      <td>2018-03-28 21:40:47</td>\n",
       "      <td>Twitter Web Client</td>\n",
       "      <td>0</td>\n",
       "      <td>19</td>\n",
       "      <td>1</td>\n",
       "    </tr>\n",
       "    <tr>\n",
       "      <th>5</th>\n",
       "      <td>RT @804StreetMedia: @realDonaldTrump White Hou...</td>\n",
       "      <td>140</td>\n",
       "      <td>979111082567577600</td>\n",
       "      <td>2018-03-28 21:40:47</td>\n",
       "      <td>Twitter for Android</td>\n",
       "      <td>0</td>\n",
       "      <td>26</td>\n",
       "      <td>0</td>\n",
       "    </tr>\n",
       "    <tr>\n",
       "      <th>6</th>\n",
       "      <td>RT @Canadiangal51: Mueller: Trump campaign's G...</td>\n",
       "      <td>125</td>\n",
       "      <td>979111082357764096</td>\n",
       "      <td>2018-03-28 21:40:47</td>\n",
       "      <td>Twitter for Android</td>\n",
       "      <td>0</td>\n",
       "      <td>2</td>\n",
       "      <td>0</td>\n",
       "    </tr>\n",
       "    <tr>\n",
       "      <th>7</th>\n",
       "      <td>RT @business: Donald Trump intends to nominate...</td>\n",
       "      <td>140</td>\n",
       "      <td>979111080449445888</td>\n",
       "      <td>2018-03-28 21:40:47</td>\n",
       "      <td>Twitter Web Client</td>\n",
       "      <td>0</td>\n",
       "      <td>4</td>\n",
       "      <td>0</td>\n",
       "    </tr>\n",
       "    <tr>\n",
       "      <th>8</th>\n",
       "      <td>RT @_FranklinWright: TRUMP WARNS: My Administr...</td>\n",
       "      <td>140</td>\n",
       "      <td>979111072862031872</td>\n",
       "      <td>2018-03-28 21:40:45</td>\n",
       "      <td>Twitter Web Client</td>\n",
       "      <td>0</td>\n",
       "      <td>43</td>\n",
       "      <td>1</td>\n",
       "    </tr>\n",
       "    <tr>\n",
       "      <th>9</th>\n",
       "      <td>RT @joncoopertweets: Donald Trump, and super P...</td>\n",
       "      <td>140</td>\n",
       "      <td>979111072530599936</td>\n",
       "      <td>2018-03-28 21:40:45</td>\n",
       "      <td>Twitter for Android</td>\n",
       "      <td>0</td>\n",
       "      <td>286</td>\n",
       "      <td>1</td>\n",
       "    </tr>\n",
       "  </tbody>\n",
       "</table>\n",
       "</div>"
      ],
      "text/plain": [
       "                                              Tweets  len                  ID  \\\n",
       "0  RT @PalmerReport: Donald Trump runs smack into...   86  979111088879960064   \n",
       "1  RT @selectedwisdom: So surprised this is not a...  140  979111087302832129   \n",
       "2  RT @WhiteHouse: President Trump sparks renewed...  104  979111083247128577   \n",
       "3  RT @JanzforCongress: My opponent @DevinNunes a...  140  979111083028959232   \n",
       "4  RT @markos: FANTASTIC piece: https://t.co/Vulo...   52  979111082987057153   \n",
       "5  RT @804StreetMedia: @realDonaldTrump White Hou...  140  979111082567577600   \n",
       "6  RT @Canadiangal51: Mueller: Trump campaign's G...  125  979111082357764096   \n",
       "7  RT @business: Donald Trump intends to nominate...  140  979111080449445888   \n",
       "8  RT @_FranklinWright: TRUMP WARNS: My Administr...  140  979111072862031872   \n",
       "9  RT @joncoopertweets: Donald Trump, and super P...  140  979111072530599936   \n",
       "\n",
       "                 Date               Source  Likes   RTs  SA  \n",
       "0 2018-03-28 21:40:49  Twitter for Android      0    43   0  \n",
       "1 2018-03-28 21:40:48  Twitter for Android      0  1279   1  \n",
       "2 2018-03-28 21:40:47   Twitter for iPhone      0   346   0  \n",
       "3 2018-03-28 21:40:47   Twitter for iPhone      0    44   0  \n",
       "4 2018-03-28 21:40:47   Twitter Web Client      0    19   1  \n",
       "5 2018-03-28 21:40:47  Twitter for Android      0    26   0  \n",
       "6 2018-03-28 21:40:47  Twitter for Android      0     2   0  \n",
       "7 2018-03-28 21:40:47   Twitter Web Client      0     4   0  \n",
       "8 2018-03-28 21:40:45   Twitter Web Client      0    43   1  \n",
       "9 2018-03-28 21:40:45  Twitter for Android      0   286   1  "
      ]
     },
     "metadata": {},
     "output_type": "display_data"
    }
   ],
   "source": [
    "# Create a column with the result of the analysis:\n",
    "data['SA'] = np.array([ analyze_sentiment(tweet) for tweet in data['Tweets'] ])\n",
    "\n",
    "# We display the updated dataframe with the new column:\n",
    "display(data.head(10))\n",
    "\n",
    "# save to a csv file \n",
    "# data.to_csv('tweets_data.csv', index=False, encoding='utf-8')   "
   ]
  },
  {
   "cell_type": "code",
   "execution_count": 123,
   "metadata": {
    "collapsed": true
   },
   "outputs": [],
   "source": [
    "# Construct lists with classified tweets:\n",
    "\n",
    "pos_tweets = [ tweet for index, tweet in enumerate(data['Tweets']) if data['SA'][index] > 0]\n",
    "neu_tweets = [ tweet for index, tweet in enumerate(data['Tweets']) if data['SA'][index] == 0]\n",
    "neg_tweets = [ tweet for index, tweet in enumerate(data['Tweets']) if data['SA'][index] < 0]"
   ]
  },
  {
   "cell_type": "code",
   "execution_count": 125,
   "metadata": {},
   "outputs": [
    {
     "name": "stdout",
     "output_type": "stream",
     "text": [
      "Percentage of positive tweets: 37.0%\n",
      "Percentage of neutral tweets: 56.0%\n",
      "Percentage of negative tweets: 7.0%\n"
     ]
    }
   ],
   "source": [
    "# Print percentages:\n",
    "\n",
    "print(\"Percentage of positive tweets: {}%\".format(len(pos_tweets)*100/len(data['Tweets'])))\n",
    "print(\"Percentage of neutral tweets: {}%\".format(len(neu_tweets)*100/len(data['Tweets'])))\n",
    "print(\"Percentage of negative tweets: {}%\".format(len(neg_tweets)*100/len(data['Tweets'])))"
   ]
  },
  {
   "cell_type": "code",
   "execution_count": null,
   "metadata": {
    "collapsed": true
   },
   "outputs": [],
   "source": []
  }
 ],
 "metadata": {
  "kernelspec": {
   "display_name": "Python [default]",
   "language": "python",
   "name": "python3"
  },
  "language_info": {
   "codemirror_mode": {
    "name": "ipython",
    "version": 3
   },
   "file_extension": ".py",
   "mimetype": "text/x-python",
   "name": "python",
   "nbconvert_exporter": "python",
   "pygments_lexer": "ipython3",
   "version": "3.5.3"
  }
 },
 "nbformat": 4,
 "nbformat_minor": 2
}
